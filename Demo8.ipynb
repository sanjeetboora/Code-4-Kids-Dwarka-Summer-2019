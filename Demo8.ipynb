{
 "cells": [
  {
   "cell_type": "code",
   "execution_count": 9,
   "metadata": {},
   "outputs": [
    {
     "name": "stdout",
     "output_type": "stream",
     "text": [
      "5\n",
      "1\t2\t3\t4\t5\t\n",
      "11\t12\t13\t14\t15\t\n",
      "21\t22\t23\t24\t25\t\n",
      "16\t17\t18\t19\t20\t\n",
      "6\t7\t8\t9\t10\t\n"
     ]
    }
   ],
   "source": [
    "# pattern\n",
    "\n",
    "n = int(input())\n",
    "row = 1\n",
    "half_time = (n+1)//2\n",
    "count = -2\n",
    "while(row<=n):\n",
    "    if(row == half_time+1 and n%2!=0): # odd \n",
    "        count-=1\n",
    "    elif(row == half_time+1 and n%2==0): # event\n",
    "        count+=1\n",
    "    elif(row<=half_time):\n",
    "        count+=2\n",
    "    else:\n",
    "        count-=2\n",
    "    \n",
    "    print_var = n*count+1\n",
    "    for i in range(0,n):\n",
    "        print(print_var, end=\"\\t\")\n",
    "        print_var+=1\n",
    "    print(\"\")\n",
    "    row+=1"
   ]
  },
  {
   "cell_type": "code",
   "execution_count": null,
   "metadata": {},
   "outputs": [],
   "source": []
  },
  {
   "cell_type": "code",
   "execution_count": null,
   "metadata": {},
   "outputs": [],
   "source": []
  }
 ],
 "metadata": {
  "kernelspec": {
   "display_name": "Python 3",
   "language": "python",
   "name": "python3"
  },
  "language_info": {
   "codemirror_mode": {
    "name": "ipython",
    "version": 3
   },
   "file_extension": ".py",
   "mimetype": "text/x-python",
   "name": "python",
   "nbconvert_exporter": "python",
   "pygments_lexer": "ipython3",
   "version": "3.7.1"
  }
 },
 "nbformat": 4,
 "nbformat_minor": 2
}
