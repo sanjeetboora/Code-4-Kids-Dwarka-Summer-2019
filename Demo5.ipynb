{
 "cells": [
  {
   "cell_type": "code",
   "execution_count": null,
   "metadata": {},
   "outputs": [],
   "source": [
    "# pattern \n",
    "\"\"\"\n",
    "*****\n",
    "****\n",
    "***\n",
    "**\n",
    "*\n",
    "\"\"\"\n",
    "\n",
    "total_no_of_rows = int(input())\n",
    "row = total_no_of_rows\n",
    "ch = \"*\"\n",
    "while(row>=1):\n",
    "    print(ch*row)\n",
    "    row-=1"
   ]
  },
  {
   "cell_type": "code",
   "execution_count": null,
   "metadata": {},
   "outputs": [],
   "source": [
    "# pattern\n",
    "\"\"\"\n",
    "      *\n",
    "     ***\n",
    "    *****\n",
    "   *******\n",
    "  *********\n",
    "\"\"\"\n",
    "ch = \"*\"\n",
    "space_char = \" \"\n",
    "total_no_of_row = int(input())\n",
    "row = 1\n",
    "space = total_no_of_row\n",
    "while(row<=total_no_of_row):\n",
    "    print(space_char*space, end=\" \")\n",
    "    print(ch*(2*row - 1))\n",
    "    row+=1\n",
    "    space-=1"
   ]
  },
  {
   "cell_type": "code",
   "execution_count": null,
   "metadata": {},
   "outputs": [],
   "source": [
    "# pattern \n",
    "\"\"\"\n",
    "**********\n",
    "****  ****\n",
    "***    ***\n",
    "**      **\n",
    "*        *\n",
    "\"\"\"\n",
    "ch = \"*\"\n",
    "space_char = \" \"\n",
    "space = 0\n",
    "total_no_of_rows = int(input())\n",
    "row = total_no_of_rows\n",
    "while(row>=1):\n",
    "    print(ch*row, end=\"\")\n",
    "    print(space_char*space, end=\"\")\n",
    "    print(ch*row)\n",
    "    row-=1\n",
    "    space+=2"
   ]
  },
  {
   "cell_type": "markdown",
   "metadata": {},
   "source": [
    "## for loops"
   ]
  },
  {
   "cell_type": "code",
   "execution_count": null,
   "metadata": {},
   "outputs": [],
   "source": [
    "for i in range(0, 10):\n",
    "    print(i)"
   ]
  },
  {
   "cell_type": "code",
   "execution_count": null,
   "metadata": {},
   "outputs": [],
   "source": [
    "ch = \"*\"\n",
    "for i in range(1, 5):\n",
    "    print(ch*i, end=\"\\n\")"
   ]
  },
  {
   "cell_type": "code",
   "execution_count": null,
   "metadata": {},
   "outputs": [],
   "source": [
    "for i in range(10): # for i in range(0, 10)\n",
    "    print(i)"
   ]
  },
  {
   "cell_type": "code",
   "execution_count": null,
   "metadata": {},
   "outputs": [],
   "source": [
    "# with 3 parameters\n",
    "for i in range(1, 20,3):\n",
    "    print(i)"
   ]
  },
  {
   "cell_type": "markdown",
   "metadata": {},
   "source": [
    "## Functions"
   ]
  },
  {
   "cell_type": "code",
   "execution_count": 5,
   "metadata": {},
   "outputs": [],
   "source": [
    "# user defined function definition\n",
    "def add(a, b, c):\n",
    "    print(a+b+c)"
   ]
  },
  {
   "cell_type": "code",
   "execution_count": 6,
   "metadata": {},
   "outputs": [
    {
     "name": "stdout",
     "output_type": "stream",
     "text": [
      "19\n"
     ]
    }
   ],
   "source": [
    "# function call\n",
    "add(6, 7, 6)"
   ]
  },
  {
   "cell_type": "code",
   "execution_count": 4,
   "metadata": {},
   "outputs": [
    {
     "name": "stdout",
     "output_type": "stream",
     "text": [
      "multiplication of 10 and 6 is \n",
      "60\n"
     ]
    }
   ],
   "source": [
    "def multiply(a, b):\n",
    "    print(\"multiplication of {0} and {1} is \".format(a, b))\n",
    "    print(a*b)\n",
    "    \n",
    "multiply(10, 6)"
   ]
  },
  {
   "cell_type": "code",
   "execution_count": 11,
   "metadata": {},
   "outputs": [],
   "source": [
    "def pattern_func(ch, given_no_of_rows):\n",
    "    #ch = char\n",
    "    space_char = \" \"\n",
    "    space = 0\n",
    "    total_no_of_rows = given_no_of_rows\n",
    "    row = total_no_of_rows\n",
    "    while(row>=1):\n",
    "        print(ch*row, end=\"\")\n",
    "        print(space_char*space, end=\"\")\n",
    "        print(ch*row)\n",
    "        row-=1\n",
    "        space+=2"
   ]
  },
  {
   "cell_type": "code",
   "execution_count": 12,
   "metadata": {},
   "outputs": [
    {
     "name": "stdout",
     "output_type": "stream",
     "text": [
      "&&&&&&&&&&&&\n",
      "&&&&&  &&&&&\n",
      "&&&&    &&&&\n",
      "&&&      &&&\n",
      "&&        &&\n",
      "&          &\n"
     ]
    }
   ],
   "source": [
    "pattern_func(\"&\", 6)\n"
   ]
  },
  {
   "cell_type": "code",
   "execution_count": 17,
   "metadata": {},
   "outputs": [
    {
     "name": "stdout",
     "output_type": "stream",
     "text": [
      "Requirement already satisfied: gTTS in /anaconda3/lib/python3.7/site-packages (2.0.3)\n",
      "Requirement already satisfied: click in /anaconda3/lib/python3.7/site-packages (from gTTS) (7.0)\n",
      "Requirement already satisfied: requests in /anaconda3/lib/python3.7/site-packages (from gTTS) (2.21.0)\n",
      "Requirement already satisfied: bs4 in /anaconda3/lib/python3.7/site-packages (from gTTS) (0.0.1)\n",
      "Requirement already satisfied: six in /anaconda3/lib/python3.7/site-packages (from gTTS) (1.12.0)\n",
      "Requirement already satisfied: gtts-token in /anaconda3/lib/python3.7/site-packages (from gTTS) (1.1.3)\n",
      "Requirement already satisfied: certifi>=2017.4.17 in /anaconda3/lib/python3.7/site-packages (from requests->gTTS) (2019.3.9)\n",
      "Requirement already satisfied: chardet<3.1.0,>=3.0.2 in /anaconda3/lib/python3.7/site-packages (from requests->gTTS) (3.0.4)\n",
      "Requirement already satisfied: idna<2.9,>=2.5 in /anaconda3/lib/python3.7/site-packages (from requests->gTTS) (2.8)\n",
      "Requirement already satisfied: urllib3<1.25,>=1.21.1 in /anaconda3/lib/python3.7/site-packages (from requests->gTTS) (1.24.1)\n",
      "Requirement already satisfied: beautifulsoup4 in /anaconda3/lib/python3.7/site-packages (from bs4->gTTS) (4.6.3)\n"
     ]
    }
   ],
   "source": [
    "!pip install gTTS"
   ]
  },
  {
   "cell_type": "code",
   "execution_count": 18,
   "metadata": {},
   "outputs": [],
   "source": [
    "from gtts import gTTS"
   ]
  },
  {
   "cell_type": "code",
   "execution_count": 19,
   "metadata": {},
   "outputs": [],
   "source": [
    "song_lyrics = \"I've been here all night (Ariana) I've been here all day Nicki Minaj And boy, got me walkin' side to side\"\n"
   ]
  },
  {
   "cell_type": "code",
   "execution_count": 21,
   "metadata": {},
   "outputs": [],
   "source": [
    "ariana = gTTS(song_lyrics)"
   ]
  },
  {
   "cell_type": "code",
   "execution_count": 22,
   "metadata": {},
   "outputs": [],
   "source": [
    "ariana.save(\"ariana.mp3\")"
   ]
  },
  {
   "cell_type": "code",
   "execution_count": null,
   "metadata": {},
   "outputs": [],
   "source": []
  }
 ],
 "metadata": {
  "kernelspec": {
   "display_name": "Python 3",
   "language": "python",
   "name": "python3"
  },
  "language_info": {
   "codemirror_mode": {
    "name": "ipython",
    "version": 3
   },
   "file_extension": ".py",
   "mimetype": "text/x-python",
   "name": "python",
   "nbconvert_exporter": "python",
   "pygments_lexer": "ipython3",
   "version": "3.7.1"
  }
 },
 "nbformat": 4,
 "nbformat_minor": 2
}
