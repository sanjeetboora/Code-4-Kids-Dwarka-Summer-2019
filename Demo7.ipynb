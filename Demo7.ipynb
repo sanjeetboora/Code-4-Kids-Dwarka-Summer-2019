{
 "cells": [
  {
   "cell_type": "code",
   "execution_count": 2,
   "metadata": {},
   "outputs": [
    {
     "name": "stdout",
     "output_type": "stream",
     "text": [
      "6\n",
      "6 5 4 3 2 1 \n",
      "5 4 3 2 1 \n",
      "4 3 2 1 \n",
      "3 2 1 \n",
      "2 1 \n",
      "1 \n"
     ]
    }
   ],
   "source": [
    "# Pattern \n",
    "\"\"\"\n",
    "6 5 4 3 2 1 \n",
    "5 4 3 2 1 \n",
    "4 3 2 1 \n",
    "3 2 1 \n",
    "2 1 \n",
    "1 \n",
    "\"\"\"\n",
    "total_no_of_rows = int(input())\n",
    "row = total_no_of_rows\n",
    "while(row >= 1):\n",
    "    # Some work to do\n",
    "    temp = row\n",
    "    while(temp >= 1):\n",
    "        print(temp, end=\" \")\n",
    "        temp-=1\n",
    "    print(\"\")\n",
    "    row-=1"
   ]
  },
  {
   "cell_type": "code",
   "execution_count": 4,
   "metadata": {},
   "outputs": [
    {
     "name": "stdout",
     "output_type": "stream",
     "text": [
      "5\n",
      "     1\n",
      "    23\n",
      "   345\n",
      "  4567\n",
      " 56789\n"
     ]
    }
   ],
   "source": [
    "# Pattern\n",
    "\"\"\"\n",
    "     1\n",
    "    23\n",
    "   345\n",
    "  4567\n",
    " 56789\n",
    "\"\"\"\n",
    "total_no_of_rows = int(input())\n",
    "row = 1\n",
    "space_char = \" \"\n",
    "no_of_space = total_no_of_rows\n",
    "while(row<=total_no_of_rows):\n",
    "    # Some work\n",
    "    print(space_char*no_of_space, end=\"\") # Logic to print spaces\n",
    "    temp = row\n",
    "    while(temp<=(2*row)-1):\n",
    "        print(temp, end=\"\")\n",
    "        temp+=1\n",
    "    print(\"\")\n",
    "    no_of_space-=1\n",
    "    row+=1"
   ]
  },
  {
   "cell_type": "code",
   "execution_count": 7,
   "metadata": {},
   "outputs": [
    {
     "name": "stdout",
     "output_type": "stream",
     "text": [
      "5\n",
      "     1\n",
      "    23\n",
      "   345\n",
      "  4567\n",
      " 56789\n"
     ]
    }
   ],
   "source": [
    "# Pattern\n",
    "\"\"\"\n",
    "     1\n",
    "    232\n",
    "   34543\n",
    "  4567654\n",
    " 567898765\n",
    "\"\"\"\n",
    "total_no_of_rows = int(input())\n",
    "row = 1\n",
    "space_char = \" \"\n",
    "no_of_space = total_no_of_rows\n",
    "while(row<=total_no_of_rows):\n",
    "    # Some work\n",
    "    print(space_char*no_of_space, end=\"\") # Logic to print spaces\n",
    "    temp = row\n",
    "    while(temp<=(2*row)-1):\n",
    "        print(temp, end=\"\")\n",
    "        temp+=1\n",
    "        \n",
    "    secondary_var = 2*row-2\n",
    "    while(secondary_var>=row):\n",
    "        print(secondary_var, end=\"\")\n",
    "        secondary_var-=1\n",
    "    print(\"\")\n",
    "    no_of_space-=1\n",
    "    row+=1"
   ]
  },
  {
   "cell_type": "markdown",
   "metadata": {},
   "source": [
    "## Email sender"
   ]
  },
  {
   "cell_type": "code",
   "execution_count": 9,
   "metadata": {},
   "outputs": [
    {
     "name": "stdout",
     "output_type": "stream",
     "text": [
      "Collecting secure-smtplib\n",
      "  Downloading https://files.pythonhosted.org/packages/1c/bd/3c602fbfa16cad120e93e4b0286d89aad0ec2ce163cdf5410a6ce4cadba5/secure_smtplib-0.1.1-py2.py3-none-any.whl\n",
      "Installing collected packages: secure-smtplib\n",
      "Successfully installed secure-smtplib-0.1.1\n"
     ]
    }
   ],
   "source": [
    "!pip install secure-smtplib"
   ]
  },
  {
   "cell_type": "code",
   "execution_count": 3,
   "metadata": {},
   "outputs": [],
   "source": [
    "import smtplib"
   ]
  },
  {
   "cell_type": "code",
   "execution_count": 6,
   "metadata": {},
   "outputs": [],
   "source": [
    "def send_email(send_from, password, send_to, subject, msg):\n",
    "    mailserver = smtplib.SMTP('smtp.gmail.com',587)\n",
    "    mailserver.ehlo() # for tls encryption\n",
    "    mailserver.starttls() # revisit the security of encryption\n",
    "    mailserver.login(send_from, password)\n",
    "    final_msg = \"Subject: {0} \\n\\n {1}\".format(subject, msg)\n",
    "    mailserver.sendmail(send_from, send_to, final_msg)\n",
    "    mailserver.quit()    "
   ]
  },
  {
   "cell_type": "code",
   "execution_count": 7,
   "metadata": {},
   "outputs": [],
   "source": [
    "send_email(\"trumpkathanos@gmail.com\", \"ironmanisalive\", \"anshul16may2006@gmail.com\", \"From Script\", \"Hey\")"
   ]
  },
  {
   "cell_type": "code",
   "execution_count": 45,
   "metadata": {},
   "outputs": [
    {
     "name": "stdout",
     "output_type": "stream",
     "text": [
      "Collecting xlutils\n",
      "\u001b[?25l  Downloading https://files.pythonhosted.org/packages/c7/55/e22ac73dbb316cabb5db28bef6c87044a95914f713a6e81b593f8a0d2f79/xlutils-2.0.0-py2.py3-none-any.whl (55kB)\n",
      "\u001b[K    100% |████████████████████████████████| 61kB 181kB/s ta 0:00:01\n",
      "\u001b[?25hRequirement already satisfied: xlrd>=0.7.2 in /anaconda3/lib/python3.7/site-packages (from xlutils) (1.2.0)\n",
      "Requirement already satisfied: xlwt>=0.7.4 in /anaconda3/lib/python3.7/site-packages (from xlutils) (1.3.0)\n",
      "Installing collected packages: xlutils\n",
      "Successfully installed xlutils-2.0.0\n"
     ]
    }
   ],
   "source": [
    "!pip install xlutils"
   ]
  },
  {
   "cell_type": "code",
   "execution_count": 46,
   "metadata": {},
   "outputs": [],
   "source": [
    "import xlrd\n",
    "import xlwt\n",
    "from xlutils.copy import copy"
   ]
  },
  {
   "cell_type": "code",
   "execution_count": 53,
   "metadata": {},
   "outputs": [],
   "source": [
    "spreadsheet = xlrd.open_workbook(\"email.xlsx\")\n",
    "wb = copy(spreadsheet) # copy\n",
    "w_sheet = wb.get_sheet(0)"
   ]
  },
  {
   "cell_type": "code",
   "execution_count": 52,
   "metadata": {},
   "outputs": [
    {
     "data": {
      "text/plain": [
       "<xlrd.book.Book at 0x1123e0240>"
      ]
     },
     "execution_count": 52,
     "metadata": {},
     "output_type": "execute_result"
    }
   ],
   "source": [
    "# w_sheet.write(0, 0, \"Sanket\")\n",
    "# wb.save(\"emailnew.xls\")\n",
    "spreadsheet"
   ]
  },
  {
   "cell_type": "code",
   "execution_count": 37,
   "metadata": {},
   "outputs": [],
   "source": [
    "sheet = spreadsheet.sheet_by_index(0)"
   ]
  },
  {
   "cell_type": "code",
   "execution_count": 49,
   "metadata": {},
   "outputs": [
    {
     "data": {
      "text/plain": [
       "'Sanket Singh'"
      ]
     },
     "execution_count": 49,
     "metadata": {},
     "output_type": "execute_result"
    }
   ],
   "source": [
    "sheet.cell_value(0,0)"
   ]
  },
  {
   "cell_type": "code",
   "execution_count": 39,
   "metadata": {},
   "outputs": [
    {
     "data": {
      "text/plain": [
       "3"
      ]
     },
     "execution_count": 39,
     "metadata": {},
     "output_type": "execute_result"
    }
   ],
   "source": [
    "sheet.ncols"
   ]
  },
  {
   "cell_type": "code",
   "execution_count": 54,
   "metadata": {},
   "outputs": [],
   "source": [
    "for i in range(0, sheet.nrows):\n",
    "    msg_to_send = \"Hey {0} \\n I am at Coding Blocks !!!!\".format(sheet.cell_value(i, 0))\n",
    "    send_email(\"trumpkathanos@gmail.com\", \"ironmanisalive\", o.cell_value(i, 1), \"From Script\", msg_to_send)\n",
    "    w_sheet.write(i, 2, \"Sent\")"
   ]
  },
  {
   "cell_type": "code",
   "execution_count": 56,
   "metadata": {},
   "outputs": [],
   "source": [
    "wb.save(\"new_email.xls\")"
   ]
  },
  {
   "cell_type": "code",
   "execution_count": null,
   "metadata": {},
   "outputs": [],
   "source": []
  }
 ],
 "metadata": {
  "kernelspec": {
   "display_name": "Python 3",
   "language": "python",
   "name": "python3"
  },
  "language_info": {
   "codemirror_mode": {
    "name": "ipython",
    "version": 3
   },
   "file_extension": ".py",
   "mimetype": "text/x-python",
   "name": "python",
   "nbconvert_exporter": "python",
   "pygments_lexer": "ipython3",
   "version": "3.7.1"
  }
 },
 "nbformat": 4,
 "nbformat_minor": 2
}
