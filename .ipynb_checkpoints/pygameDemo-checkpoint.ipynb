{
 "cells": [
  {
   "cell_type": "code",
   "execution_count": 2,
   "metadata": {},
   "outputs": [
    {
     "name": "stdout",
     "output_type": "stream",
     "text": [
      "pygame 1.9.6\n",
      "Hello from the pygame community. https://www.pygame.org/contribute.html\n",
      "PyGame Initialized Successfully!!!\n"
     ]
    }
   ],
   "source": [
    "#import of different modules\n",
    "import pygame, sys, time\n",
    "check_errors = pygame.init()\n",
    "# Here first we will check if the pygame successfully Initialized or not?\n",
    "if check_errors[1]>0:\n",
    "    print(\"error\")\n",
    "else:\n",
    "    print(\"PyGame Initialized Successfully!!!\")"
   ]
  },
  {
   "cell_type": "code",
   "execution_count": 3,
   "metadata": {},
   "outputs": [],
   "source": [
    "#Colors\n",
    "# The color method expects three parameters r,g,b combination to give the color\n",
    "white = pygame.Color(255, 255, 255) #white color for screen\n",
    "black = pygame.Color(0,0,0) #black color for score \n",
    "green = pygame.Color(141, 252, 100) #green color for snake\n",
    "red = pygame.Color(214, 62, 62) #red color for food\n",
    "\n",
    "#size of display screen\n",
    "HEIGHT = 800\n",
    "WIDTH = 800\n",
    "game_surface = pygame.display.set_mode((HEIGHT, WIDTH))# To set the window where game will run, the set_mode expects a tupple having dimensions of the window\n",
    "game_caption = pygame.display.set_caption(\"Snake Game\")# To set the Upper heading of the game window\n",
    "\n"
   ]
  },
  {
   "cell_type": "code",
   "execution_count": null,
   "metadata": {},
   "outputs": [],
   "source": []
  }
 ],
 "metadata": {
  "kernelspec": {
   "display_name": "Python 3",
   "language": "python",
   "name": "python3"
  },
  "language_info": {
   "codemirror_mode": {
    "name": "ipython",
    "version": 3
   },
   "file_extension": ".py",
   "mimetype": "text/x-python",
   "name": "python",
   "nbconvert_exporter": "python",
   "pygments_lexer": "ipython3",
   "version": "3.7.3"
  }
 },
 "nbformat": 4,
 "nbformat_minor": 2
}
