{
 "cells": [
  {
   "cell_type": "code",
   "execution_count": null,
   "metadata": {},
   "outputs": [],
   "source": [
    "# pattern \n",
    "\"\"\"\n",
    "*****\n",
    "****\n",
    "***\n",
    "**\n",
    "*\n",
    "\"\"\"\n",
    "\n",
    "total_no_of_rows = int(input())\n",
    "row = total_no_of_rows\n",
    "ch = \"*\"\n",
    "while(row>=1):\n",
    "    print(ch*row)\n",
    "    row-=1"
   ]
  },
  {
   "cell_type": "code",
   "execution_count": null,
   "metadata": {},
   "outputs": [],
   "source": [
    "# pattern\n",
    "\"\"\"\n",
    "      *\n",
    "     ***\n",
    "    *****\n",
    "   *******\n",
    "  *********\n",
    "\"\"\"\n",
    "ch = \"*\"\n",
    "space_char = \" \"\n",
    "total_no_of_row = int(input())\n",
    "row = 1\n",
    "space = total_no_of_row\n",
    "while(row<=total_no_of_row):\n",
    "    print(space_char*space, end=\" \")\n",
    "    print(ch*(2*row - 1))\n",
    "    row+=1\n",
    "    space-=1"
   ]
  },
  {
   "cell_type": "code",
   "execution_count": null,
   "metadata": {},
   "outputs": [],
   "source": [
    "# pattern \n",
    "\"\"\"\n",
    "**********\n",
    "****  ****\n",
    "***    ***\n",
    "**      **\n",
    "*        *\n",
    "\"\"\"\n",
    "ch = \"*\"\n",
    "space_char = \" \"\n",
    "space = 0\n",
    "total_no_of_rows = int(input())\n",
    "row = total_no_of_rows\n",
    "while(row>=1):\n",
    "    print(ch*row, end=\"\")\n",
    "    print(space_char*space, end=\"\")\n",
    "    print(ch*row)\n",
    "    row-=1\n",
    "    space+=2"
   ]
  },
  {
   "cell_type": "markdown",
   "metadata": {},
   "source": [
    "## for loops"
   ]
  },
  {
   "cell_type": "code",
   "execution_count": null,
   "metadata": {},
   "outputs": [],
   "source": [
    "for i in range(0, 10):\n",
    "    print(i)"
   ]
  },
  {
   "cell_type": "code",
   "execution_count": null,
   "metadata": {},
   "outputs": [],
   "source": [
    "ch = \"*\"\n",
    "for i in range(1, 5):\n",
    "    print(ch*i, end=\"\\n\")"
   ]
  },
  {
   "cell_type": "code",
   "execution_count": null,
   "metadata": {},
   "outputs": [],
   "source": [
    "for i in range(10): # for i in range(0, 10)\n",
    "    print(i)"
   ]
  },
  {
   "cell_type": "code",
   "execution_count": null,
   "metadata": {},
   "outputs": [],
   "source": [
    "# with 3 parameters\n",
    "for i in range(1, 20,3):\n",
    "    print(i)"
   ]
  },
  {
   "cell_type": "markdown",
   "metadata": {},
   "source": [
    "## Functions"
   ]
  },
  {
   "cell_type": "code",
   "execution_count": 5,
   "metadata": {},
   "outputs": [],
   "source": [
    "# user defined function definition\n",
    "def add(a, b, c):\n",
    "    print(a+b+c)"
   ]
  },
  {
   "cell_type": "code",
   "execution_count": 6,
   "metadata": {},
   "outputs": [
    {
     "name": "stdout",
     "output_type": "stream",
     "text": [
      "19\n"
     ]
    }
   ],
   "source": [
    "# function call\n",
    "add(6, 7, 6)"
   ]
  },
  {
   "cell_type": "code",
   "execution_count": 4,
   "metadata": {},
   "outputs": [
    {
     "name": "stdout",
     "output_type": "stream",
     "text": [
      "multiplication of 10 and 6 is \n",
      "60\n"
     ]
    }
   ],
   "source": [
    "def multiply(a, b):\n",
    "    print(\"multiplication of {0} and {1} is \".format(a, b))\n",
    "    print(a*b)\n",
    "    \n",
    "multiply(10, 6)"
   ]
  },
  {
   "cell_type": "code",
   "execution_count": 11,
   "metadata": {},
   "outputs": [],
   "source": [
    "def pattern_func(ch, given_no_of_rows):\n",
    "    #ch = char\n",
    "    space_char = \" \"\n",
    "    space = 0\n",
    "    total_no_of_rows = given_no_of_rows\n",
    "    row = total_no_of_rows\n",
    "    while(row>=1):\n",
    "        print(ch*row, end=\"\")\n",
    "        print(space_char*space, end=\"\")\n",
    "        print(ch*row)\n",
    "        row-=1\n",
    "        space+=2"
   ]
  },
  {
   "cell_type": "code",
   "execution_count": 12,
   "metadata": {},
   "outputs": [
    {
     "name": "stdout",
     "output_type": "stream",
     "text": [
      "&&&&&&&&&&&&\n",
      "&&&&&  &&&&&\n",
      "&&&&    &&&&\n",
      "&&&      &&&\n",
      "&&        &&\n",
      "&          &\n"
     ]
    }
   ],
   "source": [
    "pattern_func(\"&\", 6)\n"
   ]
  },
  {
   "cell_type": "code",
   "execution_count": 15,
   "metadata": {},
   "outputs": [
    {
     "name": "stdout",
     "output_type": "stream",
     "text": [
      "-2\n"
     ]
    }
   ],
   "source": []
  },
  {
   "cell_type": "code",
   "execution_count": 14,
   "metadata": {},
   "outputs": [],
   "source": [
    "def sub(a, b):\n",
    "    print(a-b)"
   ]
  },
  {
   "cell_type": "code",
   "execution_count": 13,
   "metadata": {},
   "outputs": [
    {
     "ename": "NameError",
     "evalue": "name 'sub' is not defined",
     "output_type": "error",
     "traceback": [
      "\u001b[0;31m---------------------------------------------------------------------------\u001b[0m",
      "\u001b[0;31mNameError\u001b[0m                                 Traceback (most recent call last)",
      "\u001b[0;32m<ipython-input-13-8269a889e8cd>\u001b[0m in \u001b[0;36m<module>\u001b[0;34m\u001b[0m\n\u001b[0;32m----> 1\u001b[0;31m \u001b[0msub\u001b[0m\u001b[0;34m(\u001b[0m\u001b[0;36m10\u001b[0m\u001b[0;34m,\u001b[0m \u001b[0;36m12\u001b[0m\u001b[0;34m)\u001b[0m\u001b[0;34m\u001b[0m\u001b[0;34m\u001b[0m\u001b[0m\n\u001b[0m",
      "\u001b[0;31mNameError\u001b[0m: name 'sub' is not defined"
     ]
    }
   ],
   "source": [
    "sub(10, 12)"
   ]
  },
  {
   "cell_type": "code",
   "execution_count": null,
   "metadata": {},
   "outputs": [],
   "source": []
  }
 ],
 "metadata": {
  "kernelspec": {
   "display_name": "Python 3",
   "language": "python",
   "name": "python3"
  },
  "language_info": {
   "codemirror_mode": {
    "name": "ipython",
    "version": 3
   },
   "file_extension": ".py",
   "mimetype": "text/x-python",
   "name": "python",
   "nbconvert_exporter": "python",
   "pygments_lexer": "ipython3",
   "version": "3.7.1"
  }
 },
 "nbformat": 4,
 "nbformat_minor": 2
}
