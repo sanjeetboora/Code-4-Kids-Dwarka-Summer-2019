{
 "cells": [
  {
   "cell_type": "code",
   "execution_count": 6,
   "metadata": {},
   "outputs": [
    {
     "name": "stdout",
     "output_type": "stream",
     "text": [
      "5\n",
      "1\t\n",
      "1\t2\t\n",
      "1\t2\t3\t\n",
      "1\t2\t3\t4\t\n",
      "1\t2\t3\t4\t5\t\n"
     ]
    }
   ],
   "source": [
    "# Pattern\n",
    "no_of_rows = int(input())\n",
    "row = 1\n",
    "while(row<=no_of_rows):\n",
    "    count = 1\n",
    "    while(count<=row):\n",
    "        print(count, end=\"\\t\")\n",
    "        count+=1\n",
    "    print(\"\")\n",
    "    row+=1"
   ]
  },
  {
   "cell_type": "markdown",
   "metadata": {},
   "source": [
    "# scopes"
   ]
  },
  {
   "cell_type": "code",
   "execution_count": null,
   "metadata": {},
   "outputs": [],
   "source": [
    "def pattern(n):\n",
    "    no_of_rows = n\n",
    "    row = 1\n",
    "    while(row<=no_of_rows):\n",
    "        count = 1\n",
    "        while(count<=row):\n",
    "            print(count, end=\"\\t\")\n",
    "            count+=1\n",
    "        print(\"\")\n",
    "        row+=1"
   ]
  }
 ],
 "metadata": {
  "kernelspec": {
   "display_name": "Python 3",
   "language": "python",
   "name": "python3"
  },
  "language_info": {
   "codemirror_mode": {
    "name": "ipython",
    "version": 3
   },
   "file_extension": ".py",
   "mimetype": "text/x-python",
   "name": "python",
   "nbconvert_exporter": "python",
   "pygments_lexer": "ipython3",
   "version": "3.7.1"
  }
 },
 "nbformat": 4,
 "nbformat_minor": 2
}
