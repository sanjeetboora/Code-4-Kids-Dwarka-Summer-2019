{
 "cells": [
  {
   "cell_type": "code",
   "execution_count": 1,
   "metadata": {},
   "outputs": [
    {
     "name": "stdout",
     "output_type": "stream",
     "text": [
      "Hello World\n",
      "Welcome At Coding Blocks :-p\n"
     ]
    }
   ],
   "source": [
    "print(\"Hello World\")\n",
    "print(\"Welcome At Coding Blocks :-p\")"
   ]
  },
  {
   "cell_type": "code",
   "execution_count": 2,
   "metadata": {},
   "outputs": [
    {
     "name": "stdout",
     "output_type": "stream",
     "text": [
      "Dwarka\n"
     ]
    }
   ],
   "source": [
    "print(\"Dwarka\")"
   ]
  },
  {
   "cell_type": "code",
   "execution_count": 3,
   "metadata": {},
   "outputs": [
    {
     "data": {
      "text/plain": [
       "5"
      ]
     },
     "execution_count": 3,
     "metadata": {},
     "output_type": "execute_result"
    }
   ],
   "source": [
    "2+3"
   ]
  },
  {
   "cell_type": "code",
   "execution_count": 14,
   "metadata": {},
   "outputs": [
    {
     "name": "stdout",
     "output_type": "stream",
     "text": [
      "10\n",
      "2.67564\n",
      "abswjb123\n",
      "(2+3j)\n",
      "False\n",
      "3\n"
     ]
    }
   ],
   "source": [
    "# This is a demo for variables and datatypes\n",
    "\"\"\"\n",
    "This is a \n",
    "multiline comment demo\n",
    "\"\"\"\n",
    "integer_demo = 10 # this is an integer\n",
    "float_demo = 2.67564 # this is a float or we can say decimal value\n",
    "string_demo = \"abswjb123\"\n",
    "complex_demo = 2+3j\n",
    "boolean_demo = False\n",
    "rules23 = True\n",
    "print(integer_demo)\n",
    "print(float_demo)\n",
    "print(string_demo)\n",
    "print(complex_demo)\n",
    "print(boolean_demo)\n",
    "print(int)"
   ]
  },
  {
   "cell_type": "code",
   "execution_count": 22,
   "metadata": {},
   "outputs": [
    {
     "name": "stdout",
     "output_type": "stream",
     "text": [
      "3\n"
     ]
    }
   ],
   "source": [
    "print(15%4)"
   ]
  },
  {
   "cell_type": "code",
   "execution_count": null,
   "metadata": {},
   "outputs": [],
   "source": []
  }
 ],
 "metadata": {
  "kernelspec": {
   "display_name": "Python 3",
   "language": "python",
   "name": "python3"
  },
  "language_info": {
   "codemirror_mode": {
    "name": "ipython",
    "version": 3
   },
   "file_extension": ".py",
   "mimetype": "text/x-python",
   "name": "python",
   "nbconvert_exporter": "python",
   "pygments_lexer": "ipython3",
   "version": "3.7.1"
  }
 },
 "nbformat": 4,
 "nbformat_minor": 2
}
