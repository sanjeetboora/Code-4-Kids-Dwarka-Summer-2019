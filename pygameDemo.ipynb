{
 "cells": [
  {
   "cell_type": "code",
   "execution_count": 5,
   "metadata": {},
   "outputs": [
    {
     "name": "stdout",
     "output_type": "stream",
     "text": [
      "working successfully\n"
     ]
    }
   ],
   "source": [
    "import pygame, sys, time\n",
    "check_errors = pygame.init()\n",
    "if check_errors[1]>0:\n",
    "    print(\"error\")\n",
    "else:\n",
    "    print(\"working successfully\")"
   ]
  },
  {
   "cell_type": "code",
   "execution_count": 8,
   "metadata": {},
   "outputs": [],
   "source": [
    "white = pygame.Color(255, 255, 255)\n",
    "black = pygame.Color(0,0,0)\n",
    "green = pygame.Color(141, 252, 100)\n",
    "red = pygame.Color(214, 62, 62)\n",
    "\n",
    "HEIGHT = 800\n",
    "WIDTH = 800\n",
    "game_surface = pygame.display.set_mode((HEIGHT, WIDTH))\n",
    "game_caption = pygame.display.set_caption(\"Snake Game\")"
   ]
  },
  {
   "cell_type": "code",
   "execution_count": null,
   "metadata": {},
   "outputs": [],
   "source": []
  }
 ],
 "metadata": {
  "kernelspec": {
   "display_name": "Python 3",
   "language": "python",
   "name": "python3"
  },
  "language_info": {
   "codemirror_mode": {
    "name": "ipython",
    "version": 3
   },
   "file_extension": ".py",
   "mimetype": "text/x-python",
   "name": "python",
   "nbconvert_exporter": "python",
   "pygments_lexer": "ipython3",
   "version": "3.7.3"
  }
 },
 "nbformat": 4,
 "nbformat_minor": 2
}
